{
  "nbformat": 4,
  "nbformat_minor": 0,
  "metadata": {
    "colab": {
      "name": "Assignment-1",
      "provenance": [],
      "collapsed_sections": [],
      "authorship_tag": "ABX9TyMNq9kkrkIBsFeM92G6pge6",
      "include_colab_link": true
    },
    "kernelspec": {
      "name": "python3",
      "display_name": "Python 3"
    }
  },
  "cells": [
    {
      "cell_type": "markdown",
      "metadata": {
        "id": "view-in-github",
        "colab_type": "text"
      },
      "source": [
        "<a href=\"https://colab.research.google.com/github/SAIPRIYADODDA/Assignment-1/blob/master/Assignment_1.ipynb\" target=\"_parent\"><img src=\"https://colab.research.google.com/assets/colab-badge.svg\" alt=\"Open In Colab\"/></a>"
      ]
    },
    {
      "cell_type": "markdown",
      "metadata": {
        "id": "TQn3QHOXaOC_",
        "colab_type": "text"
      },
      "source": [
        "1.\tDevelop a code for below scenario\n",
        "     giving input as year and printing respective animal using % operator"
      ]
    },
    {
      "cell_type": "code",
      "metadata": {
        "id": "bSGV8mHLaZ6O",
        "colab_type": "code",
        "colab": {
          "base_uri": "https://localhost:8080/",
          "height": 50
        },
        "outputId": "7e0aa053-ae2e-46a5-cd2d-0e6d8cabca74"
      },
      "source": [
        "year=int(input(\"Enter a year:\"))\n",
        "d={0:\"monkey\",1:\"rooster\",2:\"dog\",3:\"pig\",4:\"rat\",5:\"ox\",6:\"tiger\",7:\"rabbit\",8:\"dragon\",9:\"snake\",10:\"horse\",11:\"sheep\"}\n",
        "x=year%12\n",
        "print(d[x])\n"
      ],
      "execution_count": null,
      "outputs": [
        {
          "output_type": "stream",
          "text": [
            "Enter a year:2005\n",
            "rooster\n"
          ],
          "name": "stdout"
        }
      ]
    },
    {
      "cell_type": "markdown",
      "metadata": {
        "id": "EnvUHI3wdQD3",
        "colab_type": "text"
      },
      "source": [
        "2.\tA Quick Fox Transport Co. wants to develop an application for calculating amount based on distance and weight of goods. The charges (Amount) to be calculated as per rates given below. \n",
        " \n",
        " Input:  Distance to be travel: 520     \n",
        "Weight of the goods: 50 \n",
        "Output: Amount to be charged: 3120 /-\n",
        "\n"
      ]
    },
    {
      "cell_type": "code",
      "metadata": {
        "id": "-d9GKfihd8JO",
        "colab_type": "code",
        "colab": {
          "base_uri": "https://localhost:8080/",
          "height": 67
        },
        "outputId": "3f9faef7-4507-4454-952e-f94f2063edb6"
      },
      "source": [
        "d=int(input(\"Enter distance to be travel:\"))\n",
        "w=int(input(\"Weight of the Goods:\"))\n",
        "if(d>=500):\n",
        "  if(w>=100):\n",
        "    charge=d*5\n",
        "  elif(w>=10 and w<100):\n",
        "    charge=d*6\n",
        "  elif(w<10):\n",
        "    charge=d*7\n",
        "else:\n",
        "  if(w>=100):\n",
        "     charge=d*5\n",
        "  else:\n",
        "     charge=d*5\n",
        "print(\"Amount to be charged:\",charge)\n",
        " "
      ],
      "execution_count": null,
      "outputs": [
        {
          "output_type": "stream",
          "text": [
            "Enter distance to be travel:520\n",
            "Weight of the Goods:50\n",
            "Amount to be charged: 3120\n"
          ],
          "name": "stdout"
        }
      ]
    },
    {
      "cell_type": "markdown",
      "metadata": {
        "id": "c-1uGrY3kyPg",
        "colab_type": "text"
      },
      "source": [
        "3.\tThe Entertainment Paradise\n",
        "\n",
        " A theater in Delhi wants to develop a computerized Booking System. The theater offers different types of seats. The Ticket rates are- Stalls- Rs. 625/-, Circle- Rs.750/-, Upper Class- Rs.850/- and Box- Rs.1000/-. A discount is given 10% of total amount if tickets are purchased on Cash. In case of credit card holders 5% discount is given. \n",
        "Input: \tType of Seat: Circle    \n",
        "Payment mode: cash\n",
        "Output: Cost of ticket: 675\n"
      ]
    },
    {
      "cell_type": "code",
      "metadata": {
        "id": "GWTiwHfXnj8d",
        "colab_type": "code",
        "colab": {
          "base_uri": "https://localhost:8080/",
          "height": 67
        },
        "outputId": "9c4e5a47-ca7c-42ae-a544-f980e89b6329"
      },
      "source": [
        "t=input(\"Type of seat:\")\n",
        "p=input(\"Payment mode:\")\n",
        "if(t==\"stalls\"):\n",
        "  if(p==\"cash\"):\n",
        "    cost=625-(625*0.1)\n",
        "  else:\n",
        "    cost=625-(625*0.05)\n",
        "elif(t==\"circle\"):\n",
        "  if(p==\"cash\"):\n",
        "    cost=750-(750*0.1)\n",
        "  else:\n",
        "   cost=750-(750*0.05)\n",
        "elif(t==\"upperclass\"):\n",
        "  if(p==\"cash\"):\n",
        "    cost=850-(850*0.1)\n",
        "  else:\n",
        "   cost=850-(850*0.05)\n",
        "elif(t==\"box\"):\n",
        "  if(p==\"cash\"):\n",
        "    cost=1000-(1000*0.1)\n",
        "  else:\n",
        "   cost=1000-(1000*0.05)\n",
        "print(\"Cost of ticket:\",cost)\n",
        " \n",
        "\n",
        " "
      ],
      "execution_count": null,
      "outputs": [
        {
          "output_type": "stream",
          "text": [
            "Type of seat:circle\n",
            "Payment mode:cash\n",
            "Cost of ticket: 675.0\n"
          ],
          "name": "stdout"
        }
      ]
    },
    {
      "cell_type": "markdown",
      "metadata": {
        "id": "OaZfN4qDrH_D",
        "colab_type": "text"
      },
      "source": [
        "4.\tDevelop a program that calculates the energy needed to heat water from an initial temperature to a final temperature. Your program should prompt the user to enter the amount of water in kilograms and the initial and final temperatures of the water. The formula to compute the energy is \n",
        "Q = M * (finalTemperature – initialTemperature) * 4184.\n",
        "where M is the weight of water in kilograms, temperatures are in degrees Celsius,  and energy Q is measured in joules. (L6)\n"
      ]
    },
    {
      "cell_type": "code",
      "metadata": {
        "id": "UBPHbVUBrjru",
        "colab_type": "code",
        "colab": {
          "base_uri": "https://localhost:8080/",
          "height": 84
        },
        "outputId": "8931bde3-2363-4a2e-bf10-665417b47ea4"
      },
      "source": [
        "m=int(input(\"Enter weight of water in kilograms:\"))\n",
        "i=int(input(\"Enter initial temperature\"))\n",
        "f=int(input(\"Enter final temperature\"))\n",
        "Q=m*(f-i)*4184\n",
        "print(\"The energy needed to heat water in joules is:\",Q)"
      ],
      "execution_count": null,
      "outputs": [
        {
          "output_type": "stream",
          "text": [
            "Enter weight of water in kilograms:1500\n",
            "Enter initial temperature50\n",
            "Enter final temperature100\n",
            "The energy needed to heat water in joules is: 313800000\n"
          ],
          "name": "stdout"
        }
      ]
    },
    {
      "cell_type": "markdown",
      "metadata": {
        "id": "UOiBfuXJvuG7",
        "colab_type": "text"
      },
      "source": [
        "5.\tDevelop a program that prompts user to enter month and  print \n",
        "a.\t“Winter ” -   December ,January and February\n",
        "b.\t“Spring”  -   March ,April and May\n",
        "c.\t“Summer”  --- June ,July, August\n",
        "d.\t“Autumn ”  -- September ,October, November\n",
        " "
      ]
    },
    {
      "cell_type": "code",
      "metadata": {
        "id": "H38UH4_Eye2u",
        "colab_type": "code",
        "colab": {
          "base_uri": "https://localhost:8080/",
          "height": 50
        },
        "outputId": "e780f783-db51-4116-e300-04c49f0bff1b"
      },
      "source": [
        "month=input(\"Enter month:\")\n",
        "if(month==\"December\"or month==\"January\" or month==\"February\"):\n",
        "  print(\"Winter\")\n",
        "elif(month==\"March\"or month==\"April\" or month==\"May\"):\n",
        "  print(\"Spring\")\n",
        "elif(month==\"June\"or month==\"July\" or month==\"August\"):\n",
        "  print(\"Summer\")\n",
        "elif(month==\"September\"or month==\"October\" or month==\"November\"):\n",
        "  print(\"Autumn\")"
      ],
      "execution_count": null,
      "outputs": [
        {
          "output_type": "stream",
          "text": [
            "Enter month:April\n",
            "Spring\n"
          ],
          "name": "stdout"
        }
      ]
    },
    {
      "cell_type": "markdown",
      "metadata": {
        "id": "aMLsvXFr0_Hi",
        "colab_type": "text"
      },
      "source": [
        "6.\tBody Mass Index"
      ]
    },
    {
      "cell_type": "code",
      "metadata": {
        "id": "2forNxgJ3flu",
        "colab_type": "code",
        "colab": {
          "base_uri": "https://localhost:8080/",
          "height": 67
        },
        "outputId": "44564593-1387-4044-efc6-f83a7e604c2f"
      },
      "source": [
        "w=float(input(\"Enter weight in pounds:\"))\n",
        "h=float(input(\"Enter height in inches\"))\n",
        "h1=h*0.0254\n",
        "bmi=(w*0.45359237)/(h1**2)\n",
        "if(bmi<18.5):\n",
        "  print(\"UnderWeight\")\n",
        "elif(18.5<=bmi<25.0):\n",
        "  print(\"Normal\")\n",
        "elif(25.0<=bmi<30.0):\n",
        "  print(\"Overweight\")\n",
        "elif(30.0<=bmi):\n",
        "  print(\"Obese\")"
      ],
      "execution_count": 1,
      "outputs": [
        {
          "output_type": "stream",
          "text": [
            "Enter weight in pounds:10\n",
            "Enter height in inches5\n",
            "Obese\n"
          ],
          "name": "stdout"
        }
      ]
    },
    {
      "cell_type": "markdown",
      "metadata": {
        "id": "AgG7Mv2-7Qsw",
        "colab_type": "text"
      },
      "source": [
        "7.\tWrite a program that reads an integer between 100 and 1000 and adds all the digits in the integer \t(\tex: input 745 \t# output =16\t(7+4+5)\t)"
      ]
    },
    {
      "cell_type": "code",
      "metadata": {
        "id": "vICBwoEc7hha",
        "colab_type": "code",
        "colab": {
          "base_uri": "https://localhost:8080/",
          "height": 50
        },
        "outputId": "febe1094-f528-4d11-a5c0-1fbcfb12514c"
      },
      "source": [
        "a=int(input(\"Enter an integer between 100 and 1000:\"))\n",
        "sum=0\n",
        "while(a>0):   \n",
        "   sum=sum+int(a%10)\n",
        "   a=int(a/10)\n",
        "print(sum)\n",
        "\n"
      ],
      "execution_count": null,
      "outputs": [
        {
          "output_type": "stream",
          "text": [
            "Enter an integer between 100 and 1000:745\n",
            "16\n"
          ],
          "name": "stdout"
        }
      ]
    },
    {
      "cell_type": "markdown",
      "metadata": {
        "id": "XnDaFTcL-d3L",
        "colab_type": "text"
      },
      "source": [
        "8.\tPrint all palindrome numbers between 1 to 1000."
      ]
    },
    {
      "cell_type": "code",
      "metadata": {
        "id": "TLQihsjI-fKN",
        "colab_type": "code",
        "colab": {
          "base_uri": "https://localhost:8080/",
          "height": 104
        },
        "outputId": "0d9e694b-958c-4a82-a287-08fbc2d83a3a"
      },
      "source": [
        "a=int(input(\"Enter start range :\"))\n",
        "b=int(input(\"Enter last range :\"))\n",
        "print(\"Palindrome numbers between %d to %d are:\"%(a,b))\n",
        "for num in range(a,b+1):\n",
        "  temp=num\n",
        "  rev=0\n",
        "\n",
        "  while(temp > 0):\n",
        "   r=temp%10\n",
        "   rev=(rev*10)+r\n",
        "   temp=int(temp/10)\n",
        "  if(num==rev):\n",
        "     print(num,end=' ')\n"
      ],
      "execution_count": null,
      "outputs": [
        {
          "output_type": "stream",
          "text": [
            "Enter start range :100\n",
            "Enter last range :1000\n",
            "Palindrome numbers between 100 to 1000 are:\n",
            "101 111 121 131 141 151 161 171 181 191 202 212 222 232 242 252 262 272 282 292 303 313 323 333 343 353 363 373 383 393 404 414 424 434 444 454 464 474 484 494 505 515 525 535 545 555 565 575 585 595 606 616 626 636 646 656 666 676 686 696 707 717 727 737 747 757 767 777 787 797 808 818 828 838 848 858 868 878 888 898 909 919 929 939 949 959 969 979 989 999 "
          ],
          "name": "stdout"
        }
      ]
    },
    {
      "cell_type": "markdown",
      "metadata": {
        "id": "TQhnBw2SDlMW",
        "colab_type": "text"
      },
      "source": [
        "9.\tPrint all Armstrong numbers between 1 to 1000. "
      ]
    },
    {
      "cell_type": "code",
      "metadata": {
        "id": "xJdzFLzwELW8",
        "colab_type": "code",
        "colab": {
          "base_uri": "https://localhost:8080/",
          "height": 286
        },
        "outputId": "b937662a-bda3-4e89-fa58-eebbc9872a45"
      },
      "source": [
        "a=int(input(\"Enter start range :\"))\n",
        "b=int(input(\"Enter last range :\"))\n",
        "print(\"Armstrong numbers between %d to %d are:\"%(a,b))\n",
        "for num in range(a,b+1):\n",
        "  count=len(str(num))\n",
        "  sum=0\n",
        "  x=0\n",
        "  temp=num\n",
        "  while(temp>0):\n",
        "    r=temp%10\n",
        "    x=r**count\n",
        "    sum=sum+x\n",
        "    temp=int(temp/10)\n",
        "  if(num==sum):\n",
        "    print(num)"
      ],
      "execution_count": null,
      "outputs": [
        {
          "output_type": "stream",
          "text": [
            "Enter start range :1\n",
            "Enter last range :1000\n",
            "Armstrong numbers between 1 to 1000 are:\n",
            "1\n",
            "2\n",
            "3\n",
            "4\n",
            "5\n",
            "6\n",
            "7\n",
            "8\n",
            "9\n",
            "153\n",
            "370\n",
            "371\n",
            "407\n"
          ],
          "name": "stdout"
        }
      ]
    },
    {
      "cell_type": "markdown",
      "metadata": {
        "id": "kc32-3AnIZHV",
        "colab_type": "text"
      },
      "source": [
        "10.\tWrite a  program which iterates the integers from 1 to 100. For multiples of three print \"Fizz\" instead of the number and print \"Buzz\" for the multiples of five. When number is divided by both three and five, print \"fizz buzz\"."
      ]
    },
    {
      "cell_type": "code",
      "metadata": {
        "id": "TZysglSKIevM",
        "colab_type": "code",
        "colab": {
          "base_uri": "https://localhost:8080/",
          "height": 1000
        },
        "outputId": "cdc13e66-0cb4-407c-c67a-66268534b4a5"
      },
      "source": [
        "a=int(input(\"Enter start range:\"))\n",
        "b=int(input(\"Enter last range:\"))\n",
        "for num in range(a,b+1):\n",
        "  if(num%3==0 and num%5==0):\n",
        "    print(\"fizz buzz\")\n",
        "  elif(num%3==0):\n",
        "    print(\"fizz\")\n",
        "  elif(num%5==0):\n",
        "    print(\"buzz\")\n",
        "  else:\n",
        "   print(num)\n",
        "  "
      ],
      "execution_count": null,
      "outputs": [
        {
          "output_type": "stream",
          "text": [
            "Enter start range:1\n",
            "Enter last range:100\n",
            "1\n",
            "2\n",
            "fizz\n",
            "4\n",
            "buzz\n",
            "fizz\n",
            "7\n",
            "8\n",
            "fizz\n",
            "buzz\n",
            "11\n",
            "fizz\n",
            "13\n",
            "14\n",
            "fizz buzz\n",
            "16\n",
            "17\n",
            "fizz\n",
            "19\n",
            "buzz\n",
            "fizz\n",
            "22\n",
            "23\n",
            "fizz\n",
            "buzz\n",
            "26\n",
            "fizz\n",
            "28\n",
            "29\n",
            "fizz buzz\n",
            "31\n",
            "32\n",
            "fizz\n",
            "34\n",
            "buzz\n",
            "fizz\n",
            "37\n",
            "38\n",
            "fizz\n",
            "buzz\n",
            "41\n",
            "fizz\n",
            "43\n",
            "44\n",
            "fizz buzz\n",
            "46\n",
            "47\n",
            "fizz\n",
            "49\n",
            "buzz\n",
            "fizz\n",
            "52\n",
            "53\n",
            "fizz\n",
            "buzz\n",
            "56\n",
            "fizz\n",
            "58\n",
            "59\n",
            "fizz buzz\n",
            "61\n",
            "62\n",
            "fizz\n",
            "64\n",
            "buzz\n",
            "fizz\n",
            "67\n",
            "68\n",
            "fizz\n",
            "buzz\n",
            "71\n",
            "fizz\n",
            "73\n",
            "74\n",
            "fizz buzz\n",
            "76\n",
            "77\n",
            "fizz\n",
            "79\n",
            "buzz\n",
            "fizz\n",
            "82\n",
            "83\n",
            "fizz\n",
            "buzz\n",
            "86\n",
            "fizz\n",
            "88\n",
            "89\n",
            "fizz buzz\n",
            "91\n",
            "92\n",
            "fizz\n",
            "94\n",
            "buzz\n",
            "fizz\n",
            "97\n",
            "98\n",
            "fizz\n",
            "buzz\n"
          ],
          "name": "stdout"
        }
      ]
    },
    {
      "cell_type": "markdown",
      "metadata": {
        "id": "U5BrRH_9J586",
        "colab_type": "text"
      },
      "source": [
        "11.\tSpider Problem: A spider present at the bottom of the well of height H, needs to get out of it, using the slippery wall of the well. It decides to climb up the well; it goes up U meters and slips down D meters in one single step. So, in each step it covers (U-D) meters, and if the spider gets out of the well by covering U meters in the last step it doesn’t a slip back. For example, if the spider climbs up 5 meters and slips down by 3 meters in a single step, it covers (U - D) m in each step and 96 m in 48 steps, but in the 49th step it climbs up 5 m and reaches out of the well and it will not slip down and the step is counted as one step.     \n",
        "Input: Each test case will contain 3 integers ’H’ height of the well, next ’U’ meters climbs up in each step, and the last ’D’ meters slips down in each step.\n",
        "Output:  The number of steps 'N' required to get out of the well.\n",
        "Example 1:\n",
        " \tInput:\t\t\t\t\t\tOuput \n",
        "\t200 50 1\t\t\t\t\t    5\n",
        "\tExample 2:\n",
        " \tInput:\t\t\t\t\t\tOutput\n",
        "\t500 20 15\t\t\t\t\t   98\n"
      ]
    },
    {
      "cell_type": "code",
      "metadata": {
        "id": "03ibK2QjJ_OM",
        "colab_type": "code",
        "colab": {
          "base_uri": "https://localhost:8080/",
          "height": 84
        },
        "outputId": "1a202ed4-b97a-4c04-d216-dc447ccdd9ef"
      },
      "source": [
        "h=int(input(\"Enter height of the wall\"))\n",
        "u=int(input(\"Enter how many steps to climb:\"))\n",
        "d=int(input(\"Enter how many meters slipsdown\"))\n",
        "steps=0\n",
        "count=0\n",
        "while(h>=u):\n",
        "  steps=u-d\n",
        "  h=h-steps\n",
        "  count=count+1\n",
        "if(h<=u and h>=0):\n",
        "    count=count+1\n",
        "\n",
        "print(count)"
      ],
      "execution_count": null,
      "outputs": [
        {
          "output_type": "stream",
          "text": [
            "Enter height of the wall500\n",
            "Enter how many steps to climb:20\n",
            "Enter how many meters slipsdown15\n",
            "98\n"
          ],
          "name": "stdout"
        }
      ]
    }
  ]
}